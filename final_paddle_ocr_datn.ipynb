{
  "cells": [
    {
      "cell_type": "markdown",
      "metadata": {
        "id": "view-in-github",
        "colab_type": "text"
      },
      "source": [
        "<a href=\"https://colab.research.google.com/github/tuthanbongdem/Pycharm/blob/main/final_paddle_ocr_datn.ipynb\" target=\"_parent\"><img src=\"https://colab.research.google.com/assets/colab-badge.svg\" alt=\"Open In Colab\"/></a>"
      ]
    },
    {
      "cell_type": "code",
      "execution_count": 3,
      "metadata": {
        "colab": {
          "base_uri": "https://localhost:8080/",
          "height": 481
        },
        "id": "qwikM9jNVAgj",
        "outputId": "06552937-6811-4079-b76c-03a726f3f330"
      },
      "outputs": [
        {
          "output_type": "stream",
          "name": "stdout",
          "text": [
            "Collecting paddlepaddle-gpu\n",
            "  Using cached paddlepaddle_gpu-2.6.1-cp310-cp310-manylinux1_x86_64.whl.metadata (8.6 kB)\n",
            "Requirement already satisfied: httpx in /usr/local/lib/python3.10/dist-packages (from paddlepaddle-gpu) (0.27.0)\n",
            "Requirement already satisfied: numpy>=1.13 in /usr/local/lib/python3.10/dist-packages (from paddlepaddle-gpu) (1.26.4)\n",
            "Requirement already satisfied: Pillow in /usr/local/lib/python3.10/dist-packages (from paddlepaddle-gpu) (9.4.0)\n",
            "Requirement already satisfied: decorator in /usr/local/lib/python3.10/dist-packages (from paddlepaddle-gpu) (4.4.2)\n",
            "Requirement already satisfied: astor in /usr/local/lib/python3.10/dist-packages (from paddlepaddle-gpu) (0.8.1)\n",
            "Requirement already satisfied: opt-einsum==3.3.0 in /usr/local/lib/python3.10/dist-packages (from paddlepaddle-gpu) (3.3.0)\n",
            "Requirement already satisfied: protobuf>=3.20.2 in /usr/local/lib/python3.10/dist-packages (from paddlepaddle-gpu) (3.20.3)\n",
            "Requirement already satisfied: anyio in /usr/local/lib/python3.10/dist-packages (from httpx->paddlepaddle-gpu) (3.7.1)\n",
            "Requirement already satisfied: certifi in /usr/local/lib/python3.10/dist-packages (from httpx->paddlepaddle-gpu) (2024.7.4)\n",
            "Requirement already satisfied: httpcore==1.* in /usr/local/lib/python3.10/dist-packages (from httpx->paddlepaddle-gpu) (1.0.5)\n",
            "Requirement already satisfied: idna in /usr/local/lib/python3.10/dist-packages (from httpx->paddlepaddle-gpu) (3.7)\n",
            "Requirement already satisfied: sniffio in /usr/local/lib/python3.10/dist-packages (from httpx->paddlepaddle-gpu) (1.3.1)\n",
            "Requirement already satisfied: h11<0.15,>=0.13 in /usr/local/lib/python3.10/dist-packages (from httpcore==1.*->httpx->paddlepaddle-gpu) (0.14.0)\n",
            "Requirement already satisfied: exceptiongroup in /usr/local/lib/python3.10/dist-packages (from anyio->httpx->paddlepaddle-gpu) (1.2.2)\n",
            "Using cached paddlepaddle_gpu-2.6.1-cp310-cp310-manylinux1_x86_64.whl (758.9 MB)\n",
            "Installing collected packages: paddlepaddle-gpu\n",
            "Successfully installed paddlepaddle-gpu-2.6.1\n"
          ]
        },
        {
          "output_type": "display_data",
          "data": {
            "application/vnd.colab-display-data+json": {
              "pip_warning": {
                "packages": [
                  "paddle"
                ]
              },
              "id": "76367c0864184b45a949e1a0263faaea"
            }
          },
          "metadata": {}
        }
      ],
      "source": [
        "!pip install paddlepaddle-gpu"
      ]
    },
    {
      "cell_type": "code",
      "execution_count": null,
      "metadata": {
        "colab": {
          "base_uri": "https://localhost:8080/"
        },
        "id": "pmM1dop72HfK",
        "outputId": "48725b3b-6d6d-45f5-ef6f-91116a4b64e2"
      },
      "outputs": [
        {
          "name": "stdout",
          "output_type": "stream",
          "text": [
            "Cloning into 'PaddleOCR'...\n",
            "remote: Enumerating objects: 50916, done.\u001b[K\n",
            "remote: Counting objects: 100% (2140/2140), done.\u001b[K\n",
            "remote: Compressing objects: 100% (1312/1312), done.\u001b[K\n",
            "remote: Total 50916 (delta 1001), reused 1800 (delta 784), pack-reused 48776\u001b[K\n",
            "Receiving objects: 100% (50916/50916), 385.69 MiB | 20.30 MiB/s, done.\n",
            "Resolving deltas: 100% (35367/35367), done.\n",
            "Updating files: 100% (2422/2422), done.\n"
          ]
        }
      ],
      "source": [
        "!git clone https://github.com/PaddlePaddle/PaddleOCR"
      ]
    },
    {
      "cell_type": "code",
      "execution_count": 9,
      "metadata": {
        "colab": {
          "base_uri": "https://localhost:8080/"
        },
        "id": "ZyrUKGsskCws",
        "outputId": "c23c7777-fbac-46f1-c500-bc5b34fca2a7"
      },
      "outputs": [
        {
          "output_type": "stream",
          "name": "stdout",
          "text": [
            "/content/drive/MyDrive/DATN_PADDLE_OCR\n"
          ]
        }
      ],
      "source": [
        "%cd /content/drive/MyDrive/DATN_PADDLE_OCR"
      ]
    },
    {
      "cell_type": "code",
      "execution_count": 10,
      "metadata": {
        "colab": {
          "base_uri": "https://localhost:8080/"
        },
        "collapsed": true,
        "id": "TotCpH174BPu",
        "outputId": "a6bad19b-db49-442c-aed9-d277f485dbf8"
      },
      "outputs": [
        {
          "output_type": "stream",
          "name": "stdout",
          "text": [
            "Requirement already satisfied: shapely in /usr/local/lib/python3.10/dist-packages (from -r ./PaddleOCR/requirements.txt (line 1)) (2.0.5)\n",
            "Requirement already satisfied: scikit-image in /usr/local/lib/python3.10/dist-packages (from -r ./PaddleOCR/requirements.txt (line 2)) (0.23.2)\n",
            "Requirement already satisfied: imgaug in /usr/local/lib/python3.10/dist-packages (from -r ./PaddleOCR/requirements.txt (line 3)) (0.4.0)\n",
            "Requirement already satisfied: pyclipper in /usr/local/lib/python3.10/dist-packages (from -r ./PaddleOCR/requirements.txt (line 4)) (1.3.0.post5)\n",
            "Requirement already satisfied: lmdb in /usr/local/lib/python3.10/dist-packages (from -r ./PaddleOCR/requirements.txt (line 5)) (1.5.1)\n",
            "Requirement already satisfied: tqdm in /usr/local/lib/python3.10/dist-packages (from -r ./PaddleOCR/requirements.txt (line 6)) (4.66.5)\n",
            "Requirement already satisfied: numpy<2.0 in /usr/local/lib/python3.10/dist-packages (from -r ./PaddleOCR/requirements.txt (line 7)) (1.26.4)\n",
            "Requirement already satisfied: rapidfuzz in /usr/local/lib/python3.10/dist-packages (from -r ./PaddleOCR/requirements.txt (line 8)) (3.9.6)\n",
            "Requirement already satisfied: opencv-python in /usr/local/lib/python3.10/dist-packages (from -r ./PaddleOCR/requirements.txt (line 9)) (4.10.0.84)\n",
            "Requirement already satisfied: opencv-contrib-python in /usr/local/lib/python3.10/dist-packages (from -r ./PaddleOCR/requirements.txt (line 10)) (4.10.0.84)\n",
            "Requirement already satisfied: cython in /usr/local/lib/python3.10/dist-packages (from -r ./PaddleOCR/requirements.txt (line 11)) (3.0.11)\n",
            "Requirement already satisfied: Pillow in /usr/local/lib/python3.10/dist-packages (from -r ./PaddleOCR/requirements.txt (line 12)) (9.4.0)\n",
            "Requirement already satisfied: pyyaml in /usr/local/lib/python3.10/dist-packages (from -r ./PaddleOCR/requirements.txt (line 13)) (6.0.2)\n",
            "Requirement already satisfied: requests in /usr/local/lib/python3.10/dist-packages (from -r ./PaddleOCR/requirements.txt (line 14)) (2.32.3)\n",
            "Requirement already satisfied: albumentations==1.4.10 in /usr/local/lib/python3.10/dist-packages (from -r ./PaddleOCR/requirements.txt (line 15)) (1.4.10)\n",
            "Requirement already satisfied: scipy>=1.10.0 in /usr/local/lib/python3.10/dist-packages (from albumentations==1.4.10->-r ./PaddleOCR/requirements.txt (line 15)) (1.13.1)\n",
            "Requirement already satisfied: typing-extensions>=4.9.0 in /usr/local/lib/python3.10/dist-packages (from albumentations==1.4.10->-r ./PaddleOCR/requirements.txt (line 15)) (4.12.2)\n",
            "Requirement already satisfied: scikit-learn>=1.3.2 in /usr/local/lib/python3.10/dist-packages (from albumentations==1.4.10->-r ./PaddleOCR/requirements.txt (line 15)) (1.3.2)\n",
            "Requirement already satisfied: pydantic>=2.7.0 in /usr/local/lib/python3.10/dist-packages (from albumentations==1.4.10->-r ./PaddleOCR/requirements.txt (line 15)) (2.8.2)\n",
            "Requirement already satisfied: albucore>=0.0.11 in /usr/local/lib/python3.10/dist-packages (from albumentations==1.4.10->-r ./PaddleOCR/requirements.txt (line 15)) (0.0.13)\n",
            "Requirement already satisfied: opencv-python-headless>=4.9.0.80 in /usr/local/lib/python3.10/dist-packages (from albumentations==1.4.10->-r ./PaddleOCR/requirements.txt (line 15)) (4.10.0.84)\n",
            "Requirement already satisfied: networkx>=2.8 in /usr/local/lib/python3.10/dist-packages (from scikit-image->-r ./PaddleOCR/requirements.txt (line 2)) (3.3)\n",
            "Requirement already satisfied: imageio>=2.33 in /usr/local/lib/python3.10/dist-packages (from scikit-image->-r ./PaddleOCR/requirements.txt (line 2)) (2.34.2)\n",
            "Requirement already satisfied: tifffile>=2022.8.12 in /usr/local/lib/python3.10/dist-packages (from scikit-image->-r ./PaddleOCR/requirements.txt (line 2)) (2024.7.24)\n",
            "Requirement already satisfied: packaging>=21 in /usr/local/lib/python3.10/dist-packages (from scikit-image->-r ./PaddleOCR/requirements.txt (line 2)) (24.1)\n",
            "Requirement already satisfied: lazy-loader>=0.4 in /usr/local/lib/python3.10/dist-packages (from scikit-image->-r ./PaddleOCR/requirements.txt (line 2)) (0.4)\n",
            "Requirement already satisfied: six in /usr/local/lib/python3.10/dist-packages (from imgaug->-r ./PaddleOCR/requirements.txt (line 3)) (1.16.0)\n",
            "Requirement already satisfied: matplotlib in /usr/local/lib/python3.10/dist-packages (from imgaug->-r ./PaddleOCR/requirements.txt (line 3)) (3.7.1)\n",
            "Requirement already satisfied: charset-normalizer<4,>=2 in /usr/local/lib/python3.10/dist-packages (from requests->-r ./PaddleOCR/requirements.txt (line 14)) (3.3.2)\n",
            "Requirement already satisfied: idna<4,>=2.5 in /usr/local/lib/python3.10/dist-packages (from requests->-r ./PaddleOCR/requirements.txt (line 14)) (3.7)\n",
            "Requirement already satisfied: urllib3<3,>=1.21.1 in /usr/local/lib/python3.10/dist-packages (from requests->-r ./PaddleOCR/requirements.txt (line 14)) (2.0.7)\n",
            "Requirement already satisfied: certifi>=2017.4.17 in /usr/local/lib/python3.10/dist-packages (from requests->-r ./PaddleOCR/requirements.txt (line 14)) (2024.7.4)\n",
            "Requirement already satisfied: tomli>=2.0.1 in /usr/local/lib/python3.10/dist-packages (from albucore>=0.0.11->albumentations==1.4.10->-r ./PaddleOCR/requirements.txt (line 15)) (2.0.1)\n",
            "Requirement already satisfied: annotated-types>=0.4.0 in /usr/local/lib/python3.10/dist-packages (from pydantic>=2.7.0->albumentations==1.4.10->-r ./PaddleOCR/requirements.txt (line 15)) (0.7.0)\n",
            "Requirement already satisfied: pydantic-core==2.20.1 in /usr/local/lib/python3.10/dist-packages (from pydantic>=2.7.0->albumentations==1.4.10->-r ./PaddleOCR/requirements.txt (line 15)) (2.20.1)\n",
            "Requirement already satisfied: joblib>=1.1.1 in /usr/local/lib/python3.10/dist-packages (from scikit-learn>=1.3.2->albumentations==1.4.10->-r ./PaddleOCR/requirements.txt (line 15)) (1.4.2)\n",
            "Requirement already satisfied: threadpoolctl>=2.0.0 in /usr/local/lib/python3.10/dist-packages (from scikit-learn>=1.3.2->albumentations==1.4.10->-r ./PaddleOCR/requirements.txt (line 15)) (3.5.0)\n",
            "Requirement already satisfied: contourpy>=1.0.1 in /usr/local/lib/python3.10/dist-packages (from matplotlib->imgaug->-r ./PaddleOCR/requirements.txt (line 3)) (1.2.1)\n",
            "Requirement already satisfied: cycler>=0.10 in /usr/local/lib/python3.10/dist-packages (from matplotlib->imgaug->-r ./PaddleOCR/requirements.txt (line 3)) (0.12.1)\n",
            "Requirement already satisfied: fonttools>=4.22.0 in /usr/local/lib/python3.10/dist-packages (from matplotlib->imgaug->-r ./PaddleOCR/requirements.txt (line 3)) (4.53.1)\n",
            "Requirement already satisfied: kiwisolver>=1.0.1 in /usr/local/lib/python3.10/dist-packages (from matplotlib->imgaug->-r ./PaddleOCR/requirements.txt (line 3)) (1.4.5)\n",
            "Requirement already satisfied: pyparsing>=2.3.1 in /usr/local/lib/python3.10/dist-packages (from matplotlib->imgaug->-r ./PaddleOCR/requirements.txt (line 3)) (3.1.2)\n",
            "Requirement already satisfied: python-dateutil>=2.7 in /usr/local/lib/python3.10/dist-packages (from matplotlib->imgaug->-r ./PaddleOCR/requirements.txt (line 3)) (2.8.2)\n"
          ]
        }
      ],
      "source": [
        "!pip install -r ./PaddleOCR/requirements.txt"
      ]
    },
    {
      "cell_type": "code",
      "execution_count": null,
      "metadata": {
        "id": "i7nQY2yu4Ee3"
      },
      "outputs": [],
      "source": [
        "!python ./convert.py"
      ]
    },
    {
      "cell_type": "code",
      "execution_count": 18,
      "metadata": {
        "colab": {
          "base_uri": "https://localhost:8080/"
        },
        "collapsed": true,
        "id": "qd0UgEnF5KH8",
        "outputId": "d7b18793-6a5f-43bf-d749-9d4cceae964e"
      },
      "outputs": [
        {
          "output_type": "stream",
          "name": "stdout",
          "text": [
            "[2024/08/12 13:13:10] ppocr INFO: Architecture : \n",
            "[2024/08/12 13:13:10] ppocr INFO:     Models : \n",
            "[2024/08/12 13:13:10] ppocr INFO:         Student : \n",
            "[2024/08/12 13:13:10] ppocr INFO:             Backbone : \n",
            "[2024/08/12 13:13:10] ppocr INFO:                 det : True\n",
            "[2024/08/12 13:13:10] ppocr INFO:                 name : PPLCNetV3\n",
            "[2024/08/12 13:13:10] ppocr INFO:                 pretrained : False\n",
            "[2024/08/12 13:13:10] ppocr INFO:                 scale : 0.75\n",
            "[2024/08/12 13:13:10] ppocr INFO:             Head : \n",
            "[2024/08/12 13:13:10] ppocr INFO:                 k : 50\n",
            "[2024/08/12 13:13:10] ppocr INFO:                 name : DBHead\n",
            "[2024/08/12 13:13:10] ppocr INFO:             Neck : \n",
            "[2024/08/12 13:13:10] ppocr INFO:                 name : RSEFPN\n",
            "[2024/08/12 13:13:10] ppocr INFO:                 out_channels : 96\n",
            "[2024/08/12 13:13:10] ppocr INFO:                 shortcut : True\n",
            "[2024/08/12 13:13:10] ppocr INFO:             Transform : None\n",
            "[2024/08/12 13:13:10] ppocr INFO:             algorithm : DB\n",
            "[2024/08/12 13:13:10] ppocr INFO:             model_type : det\n",
            "[2024/08/12 13:13:10] ppocr INFO:         Student2 : \n",
            "[2024/08/12 13:13:10] ppocr INFO:             Backbone : \n",
            "[2024/08/12 13:13:10] ppocr INFO:                 det : True\n",
            "[2024/08/12 13:13:10] ppocr INFO:                 name : PPLCNetV3\n",
            "[2024/08/12 13:13:10] ppocr INFO:                 pretrained : True\n",
            "[2024/08/12 13:13:10] ppocr INFO:                 scale : 0.75\n",
            "[2024/08/12 13:13:10] ppocr INFO:             Head : \n",
            "[2024/08/12 13:13:10] ppocr INFO:                 k : 50\n",
            "[2024/08/12 13:13:10] ppocr INFO:                 name : DBHead\n",
            "[2024/08/12 13:13:10] ppocr INFO:             Neck : \n",
            "[2024/08/12 13:13:10] ppocr INFO:                 name : RSEFPN\n",
            "[2024/08/12 13:13:10] ppocr INFO:                 out_channels : 96\n",
            "[2024/08/12 13:13:10] ppocr INFO:                 shortcut : True\n",
            "[2024/08/12 13:13:10] ppocr INFO:             Transform : None\n",
            "[2024/08/12 13:13:10] ppocr INFO:             algorithm : DB\n",
            "[2024/08/12 13:13:10] ppocr INFO:             model_type : det\n",
            "[2024/08/12 13:13:10] ppocr INFO:             pretrained : None\n",
            "[2024/08/12 13:13:10] ppocr INFO:         Teacher : \n",
            "[2024/08/12 13:13:10] ppocr INFO:             Backbone : \n",
            "[2024/08/12 13:13:10] ppocr INFO:                 in_channels : 3\n",
            "[2024/08/12 13:13:10] ppocr INFO:                 layers : 50\n",
            "[2024/08/12 13:13:10] ppocr INFO:                 name : ResNet_vd\n",
            "[2024/08/12 13:13:10] ppocr INFO:             Head : \n",
            "[2024/08/12 13:13:10] ppocr INFO:                 k : 50\n",
            "[2024/08/12 13:13:10] ppocr INFO:                 kernel_list : [7, 2, 2]\n",
            "[2024/08/12 13:13:10] ppocr INFO:                 name : DBHead\n",
            "[2024/08/12 13:13:10] ppocr INFO:             Neck : \n",
            "[2024/08/12 13:13:10] ppocr INFO:                 name : LKPAN\n",
            "[2024/08/12 13:13:10] ppocr INFO:                 out_channels : 256\n",
            "[2024/08/12 13:13:10] ppocr INFO:             algorithm : DB\n",
            "[2024/08/12 13:13:10] ppocr INFO:             freeze_params : True\n",
            "[2024/08/12 13:13:10] ppocr INFO:             model_type : det\n",
            "[2024/08/12 13:13:10] ppocr INFO:             pretrained : https://paddleocr.bj.bcebos.com/PP-OCRv4/chinese/ch_PP-OCRv4_det_cml_teacher_pretrained/teacher.pdparams\n",
            "[2024/08/12 13:13:10] ppocr INFO:             return_all_feats : False\n",
            "[2024/08/12 13:13:10] ppocr INFO:     algorithm : Distillation\n",
            "[2024/08/12 13:13:10] ppocr INFO:     model_type : det\n",
            "[2024/08/12 13:13:10] ppocr INFO:     name : DistillationModel\n",
            "[2024/08/12 13:13:10] ppocr INFO: Eval : \n",
            "[2024/08/12 13:13:10] ppocr INFO:     dataset : \n",
            "[2024/08/12 13:13:10] ppocr INFO:         data_dir : ./vietnamese_original/vietnamese/test_image/\n",
            "[2024/08/12 13:13:10] ppocr INFO:         label_file_list : ['./test_label.txt']\n",
            "[2024/08/12 13:13:10] ppocr INFO:         name : SimpleDataSet\n",
            "[2024/08/12 13:13:10] ppocr INFO:         transforms : \n",
            "[2024/08/12 13:13:10] ppocr INFO:             DecodeImage : \n",
            "[2024/08/12 13:13:10] ppocr INFO:                 channel_first : False\n",
            "[2024/08/12 13:13:10] ppocr INFO:                 img_mode : BGR\n",
            "[2024/08/12 13:13:10] ppocr INFO:             DetLabelEncode : None\n",
            "[2024/08/12 13:13:10] ppocr INFO:             DetResizeForTest : \n",
            "[2024/08/12 13:13:10] ppocr INFO:                 limit_side_len : 960\n",
            "[2024/08/12 13:13:10] ppocr INFO:                 limit_type : max\n",
            "[2024/08/12 13:13:10] ppocr INFO:             NormalizeImage : \n",
            "[2024/08/12 13:13:10] ppocr INFO:                 mean : [0.485, 0.456, 0.406]\n",
            "[2024/08/12 13:13:10] ppocr INFO:                 order : hwc\n",
            "[2024/08/12 13:13:10] ppocr INFO:                 scale : 1./255.\n",
            "[2024/08/12 13:13:10] ppocr INFO:                 std : [0.229, 0.224, 0.225]\n",
            "[2024/08/12 13:13:10] ppocr INFO:             ToCHWImage : None\n",
            "[2024/08/12 13:13:10] ppocr INFO:             KeepKeys : \n",
            "[2024/08/12 13:13:10] ppocr INFO:                 keep_keys : ['image', 'shape', 'polys', 'ignore_tags']\n",
            "[2024/08/12 13:13:10] ppocr INFO:     loader : \n",
            "[2024/08/12 13:13:10] ppocr INFO:         batch_size_per_card : 1\n",
            "[2024/08/12 13:13:10] ppocr INFO:         drop_last : False\n",
            "[2024/08/12 13:13:10] ppocr INFO:         num_workers : 2\n",
            "[2024/08/12 13:13:10] ppocr INFO:         shuffle : False\n",
            "[2024/08/12 13:13:10] ppocr INFO: Global : \n",
            "[2024/08/12 13:13:10] ppocr INFO:     cal_metric_during_train : False\n",
            "[2024/08/12 13:13:10] ppocr INFO:     checkpoints : None\n",
            "[2024/08/12 13:13:10] ppocr INFO:     debug : False\n",
            "[2024/08/12 13:13:10] ppocr INFO:     distributed : False\n",
            "[2024/08/12 13:13:10] ppocr INFO:     epoch_num : 500\n",
            "[2024/08/12 13:13:10] ppocr INFO:     eval_batch_step : [0, 1000]\n",
            "[2024/08/12 13:13:10] ppocr INFO:     infer_img : doc/imgs_en/img_10.jpg\n",
            "[2024/08/12 13:13:10] ppocr INFO:     log_smooth_window : 20\n",
            "[2024/08/12 13:13:10] ppocr INFO:     pretrained_model : None\n",
            "[2024/08/12 13:13:10] ppocr INFO:     print_batch_step : 20\n",
            "[2024/08/12 13:13:10] ppocr INFO:     save_epoch_step : 50\n",
            "[2024/08/12 13:13:10] ppocr INFO:     save_inference_dir : None\n",
            "[2024/08/12 13:13:10] ppocr INFO:     save_model_dir : ./output/ch_PP-OCRv4\n",
            "[2024/08/12 13:13:10] ppocr INFO:     save_res_path : ./checkpoints/det_db/predicts_db.txt\n",
            "[2024/08/12 13:13:10] ppocr INFO:     use_gpu : False\n",
            "[2024/08/12 13:13:10] ppocr INFO:     use_visualdl : False\n",
            "[2024/08/12 13:13:10] ppocr INFO: Loss : \n",
            "[2024/08/12 13:13:10] ppocr INFO:     loss_config_list : \n",
            "[2024/08/12 13:13:10] ppocr INFO:         DistillationDilaDBLoss : \n",
            "[2024/08/12 13:13:10] ppocr INFO:             alpha : 5\n",
            "[2024/08/12 13:13:10] ppocr INFO:             balance_loss : True\n",
            "[2024/08/12 13:13:10] ppocr INFO:             beta : 10\n",
            "[2024/08/12 13:13:10] ppocr INFO:             key : maps\n",
            "[2024/08/12 13:13:10] ppocr INFO:             main_loss_type : DiceLoss\n",
            "[2024/08/12 13:13:10] ppocr INFO:             model_name_pairs : [['Student', 'Teacher'], ['Student2', 'Teacher']]\n",
            "[2024/08/12 13:13:10] ppocr INFO:             ohem_ratio : 3\n",
            "[2024/08/12 13:13:10] ppocr INFO:             weight : 1.0\n",
            "[2024/08/12 13:13:10] ppocr INFO:         DistillationDMLLoss : \n",
            "[2024/08/12 13:13:10] ppocr INFO:             key : maps\n",
            "[2024/08/12 13:13:10] ppocr INFO:             maps_name : thrink_maps\n",
            "[2024/08/12 13:13:10] ppocr INFO:             model_name_pairs : ['Student', 'Student2']\n",
            "[2024/08/12 13:13:10] ppocr INFO:             weight : 1.0\n",
            "[2024/08/12 13:13:10] ppocr INFO:         DistillationDBLoss : \n",
            "[2024/08/12 13:13:10] ppocr INFO:             alpha : 5\n",
            "[2024/08/12 13:13:10] ppocr INFO:             balance_loss : True\n",
            "[2024/08/12 13:13:10] ppocr INFO:             beta : 10\n",
            "[2024/08/12 13:13:10] ppocr INFO:             main_loss_type : DiceLoss\n",
            "[2024/08/12 13:13:10] ppocr INFO:             model_name_list : ['Student', 'Student2']\n",
            "[2024/08/12 13:13:10] ppocr INFO:             ohem_ratio : 3\n",
            "[2024/08/12 13:13:10] ppocr INFO:             weight : 1.0\n",
            "[2024/08/12 13:13:10] ppocr INFO:     name : CombinedLoss\n",
            "[2024/08/12 13:13:10] ppocr INFO: Metric : \n",
            "[2024/08/12 13:13:10] ppocr INFO:     base_metric_name : DetMetric\n",
            "[2024/08/12 13:13:10] ppocr INFO:     key : Student\n",
            "[2024/08/12 13:13:10] ppocr INFO:     main_indicator : hmean\n",
            "[2024/08/12 13:13:10] ppocr INFO:     name : DistillationMetric\n",
            "[2024/08/12 13:13:10] ppocr INFO: Optimizer : \n",
            "[2024/08/12 13:13:10] ppocr INFO:     beta1 : 0.9\n",
            "[2024/08/12 13:13:10] ppocr INFO:     beta2 : 0.999\n",
            "[2024/08/12 13:13:10] ppocr INFO:     lr : \n",
            "[2024/08/12 13:13:10] ppocr INFO:         learning_rate : 0.001\n",
            "[2024/08/12 13:13:10] ppocr INFO:         name : Cosine\n",
            "[2024/08/12 13:13:10] ppocr INFO:         warmup_epoch : 2\n",
            "[2024/08/12 13:13:10] ppocr INFO:     name : Adam\n",
            "[2024/08/12 13:13:10] ppocr INFO:     regularizer : \n",
            "[2024/08/12 13:13:10] ppocr INFO:         factor : 5e-05\n",
            "[2024/08/12 13:13:10] ppocr INFO:         name : L2\n",
            "[2024/08/12 13:13:10] ppocr INFO: PostProcess : \n",
            "[2024/08/12 13:13:10] ppocr INFO:     box_thresh : 0.6\n",
            "[2024/08/12 13:13:10] ppocr INFO:     key : head_out\n",
            "[2024/08/12 13:13:10] ppocr INFO:     max_candidates : 1000\n",
            "[2024/08/12 13:13:10] ppocr INFO:     model_name : ['Student']\n",
            "[2024/08/12 13:13:10] ppocr INFO:     name : DistillationDBPostProcess\n",
            "[2024/08/12 13:13:10] ppocr INFO:     thresh : 0.3\n",
            "[2024/08/12 13:13:10] ppocr INFO:     unclip_ratio : 1.5\n",
            "[2024/08/12 13:13:10] ppocr INFO: Train : \n",
            "[2024/08/12 13:13:10] ppocr INFO:     dataset : \n",
            "[2024/08/12 13:13:10] ppocr INFO:         data_dir : ./vietnamese_original/vietnamese/train_images/\n",
            "[2024/08/12 13:13:10] ppocr INFO:         label_file_list : ['./train_label.txt']\n",
            "[2024/08/12 13:13:10] ppocr INFO:         name : SimpleDataSet\n",
            "[2024/08/12 13:13:10] ppocr INFO:         ratio_list : [1.0]\n",
            "[2024/08/12 13:13:10] ppocr INFO:         transforms : \n",
            "[2024/08/12 13:13:10] ppocr INFO:             DecodeImage : \n",
            "[2024/08/12 13:13:10] ppocr INFO:                 channel_first : False\n",
            "[2024/08/12 13:13:10] ppocr INFO:                 img_mode : BGR\n",
            "[2024/08/12 13:13:10] ppocr INFO:             DetLabelEncode : None\n",
            "[2024/08/12 13:13:10] ppocr INFO:             IaaAugment : \n",
            "[2024/08/12 13:13:10] ppocr INFO:                 augmenter_args : \n",
            "[2024/08/12 13:13:10] ppocr INFO:                     args : \n",
            "[2024/08/12 13:13:10] ppocr INFO:                         p : 0.5\n",
            "[2024/08/12 13:13:10] ppocr INFO:                     type : Fliplr\n",
            "[2024/08/12 13:13:10] ppocr INFO:                     args : \n",
            "[2024/08/12 13:13:10] ppocr INFO:                         rotate : [-10, 10]\n",
            "[2024/08/12 13:13:10] ppocr INFO:                     type : Affine\n",
            "[2024/08/12 13:13:10] ppocr INFO:                     args : \n",
            "[2024/08/12 13:13:10] ppocr INFO:                         size : [0.5, 3]\n",
            "[2024/08/12 13:13:10] ppocr INFO:                     type : Resize\n",
            "[2024/08/12 13:13:10] ppocr INFO:             EastRandomCropData : \n",
            "[2024/08/12 13:13:10] ppocr INFO:                 keep_ratio : True\n",
            "[2024/08/12 13:13:10] ppocr INFO:                 max_tries : 50\n",
            "[2024/08/12 13:13:10] ppocr INFO:                 size : [640, 640]\n",
            "[2024/08/12 13:13:10] ppocr INFO:             MakeBorderMap : \n",
            "[2024/08/12 13:13:10] ppocr INFO:                 shrink_ratio : 0.4\n",
            "[2024/08/12 13:13:10] ppocr INFO:                 thresh_max : 0.7\n",
            "[2024/08/12 13:13:10] ppocr INFO:                 thresh_min : 0.3\n",
            "[2024/08/12 13:13:10] ppocr INFO:                 total_epoch : 500\n",
            "[2024/08/12 13:13:10] ppocr INFO:             MakeShrinkMap : \n",
            "[2024/08/12 13:13:10] ppocr INFO:                 min_text_size : 8\n",
            "[2024/08/12 13:13:10] ppocr INFO:                 shrink_ratio : 0.4\n",
            "[2024/08/12 13:13:10] ppocr INFO:                 total_epoch : 500\n",
            "[2024/08/12 13:13:10] ppocr INFO:             NormalizeImage : \n",
            "[2024/08/12 13:13:10] ppocr INFO:                 mean : [0.485, 0.456, 0.406]\n",
            "[2024/08/12 13:13:10] ppocr INFO:                 order : hwc\n",
            "[2024/08/12 13:13:10] ppocr INFO:                 scale : 1./255.\n",
            "[2024/08/12 13:13:10] ppocr INFO:                 std : [0.229, 0.224, 0.225]\n",
            "[2024/08/12 13:13:10] ppocr INFO:             ToCHWImage : None\n",
            "[2024/08/12 13:13:10] ppocr INFO:             KeepKeys : \n",
            "[2024/08/12 13:13:10] ppocr INFO:                 keep_keys : ['image', 'threshold_map', 'threshold_mask', 'shrink_map', 'shrink_mask']\n",
            "[2024/08/12 13:13:10] ppocr INFO:     loader : \n",
            "[2024/08/12 13:13:10] ppocr INFO:         batch_size_per_card : 16\n",
            "[2024/08/12 13:13:10] ppocr INFO:         drop_last : False\n",
            "[2024/08/12 13:13:10] ppocr INFO:         num_workers : 8\n",
            "[2024/08/12 13:13:10] ppocr INFO:         shuffle : True\n",
            "[2024/08/12 13:13:10] ppocr INFO: profiler_options : None\n",
            "[2024/08/12 13:13:10] ppocr INFO: train with paddle 2.6.1 and device Place(cpu)\n",
            "[2024/08/12 13:13:10] ppocr INFO: Initialize indexs of datasets:['./train_label.txt']\n",
            "[2024/08/12 13:13:11] ppocr INFO: Initialize indexs of datasets:['./test_label.txt']\n",
            "download https://paddleocr.bj.bcebos.com/PP-OCRv4/chinese/ch_PP-OCRv4_det_cml_teacher_pretrained/teacher.pdparams to /root/.paddleocr/models/teacher.pdparams\n",
            "100% 128743/128743 [00:27<00:00, 4636.51it/s] \n",
            "[2024/08/12 13:13:44] ppocr INFO: load pretrain successful from /root/.paddleocr/models/teacher\n",
            "[2024/08/12 13:13:44] ppocr INFO: train dataloader has 75 iters\n",
            "[2024/08/12 13:13:44] ppocr INFO: valid dataloader has 300 iters\n",
            "[2024/08/12 13:13:44] ppocr INFO: train from scratch\n",
            "[2024/08/12 13:13:44] ppocr INFO: During the training process, after the 0th iteration, an evaluation is run every 1000 iterations\n",
            "Process Process-7:\n",
            "Process Process-2:\n",
            "Process Process-6:\n",
            "Process Process-8:\n",
            "Traceback (most recent call last):\n",
            "  File \"/usr/lib/python3.10/multiprocessing/process.py\", line 314, in _bootstrap\n",
            "    self.run()\n",
            "  File \"/usr/lib/python3.10/multiprocessing/process.py\", line 108, in run\n",
            "    self._target(*self._args, **self._kwargs)\n",
            "  File \"/usr/local/lib/python3.10/dist-packages/paddle/io/dataloader/worker.py\", line 409, in _worker_loop\n",
            "    _cleanup_mmap()\n",
            "  File \"/usr/local/lib/python3.10/dist-packages/paddle/io/multiprocess_utils.py\", line 53, in _cleanup_mmap\n",
            "    core._cleanup_mmap_fds()\n",
            "KeyboardInterrupt\n",
            "Traceback (most recent call last):\n",
            "Traceback (most recent call last):\n",
            "  File \"/usr/lib/python3.10/multiprocessing/process.py\", line 314, in _bootstrap\n",
            "    self.run()\n",
            "  File \"/usr/lib/python3.10/multiprocessing/process.py\", line 314, in _bootstrap\n",
            "    self.run()\n",
            "  File \"/usr/lib/python3.10/multiprocessing/process.py\", line 108, in run\n",
            "    self._target(*self._args, **self._kwargs)\n",
            "  File \"/usr/local/lib/python3.10/dist-packages/paddle/io/dataloader/worker.py\", line 409, in _worker_loop\n",
            "    _cleanup_mmap()\n",
            "  File \"/usr/local/lib/python3.10/dist-packages/paddle/io/multiprocess_utils.py\", line 53, in _cleanup_mmap\n",
            "    core._cleanup_mmap_fds()\n",
            "KeyboardInterrupt\n",
            "  File \"/usr/lib/python3.10/multiprocessing/process.py\", line 108, in run\n",
            "    self._target(*self._args, **self._kwargs)\n",
            "  File \"/usr/local/lib/python3.10/dist-packages/paddle/io/dataloader/worker.py\", line 409, in _worker_loop\n",
            "    _cleanup_mmap()\n",
            "  File \"/usr/local/lib/python3.10/dist-packages/paddle/io/multiprocess_utils.py\", line 53, in _cleanup_mmap\n",
            "    core._cleanup_mmap_fds()\n",
            "KeyboardInterrupt\n",
            "Traceback (most recent call last):\n",
            "Process Process-4:\n",
            "  File \"/usr/lib/python3.10/multiprocessing/process.py\", line 314, in _bootstrap\n",
            "    self.run()\n",
            "  File \"/usr/lib/python3.10/multiprocessing/process.py\", line 108, in run\n",
            "    self._target(*self._args, **self._kwargs)\n",
            "  File \"/usr/local/lib/python3.10/dist-packages/paddle/io/dataloader/worker.py\", line 409, in _worker_loop\n",
            "    _cleanup_mmap()\n",
            "  File \"/usr/local/lib/python3.10/dist-packages/paddle/io/multiprocess_utils.py\", line 53, in _cleanup_mmap\n",
            "    core._cleanup_mmap_fds()\n",
            "KeyboardInterrupt\n",
            "Traceback (most recent call last):\n",
            "  File \"/usr/lib/python3.10/multiprocessing/process.py\", line 314, in _bootstrap\n",
            "    self.run()\n",
            "  File \"/usr/lib/python3.10/multiprocessing/process.py\", line 108, in run\n",
            "    self._target(*self._args, **self._kwargs)\n",
            "  File \"/usr/local/lib/python3.10/dist-packages/paddle/io/dataloader/worker.py\", line 409, in _worker_loop\n",
            "    _cleanup_mmap()\n",
            "  File \"/usr/local/lib/python3.10/dist-packages/paddle/io/multiprocess_utils.py\", line 53, in _cleanup_mmap\n",
            "    core._cleanup_mmap_fds()\n",
            "KeyboardInterrupt\n",
            "Process Process-3:\n",
            "Process Process-5:\n",
            "Traceback (most recent call last):\n",
            "Traceback (most recent call last):\n",
            "  File \"/usr/lib/python3.10/multiprocessing/process.py\", line 314, in _bootstrap\n",
            "    self.run()\n",
            "  File \"/usr/lib/python3.10/multiprocessing/process.py\", line 108, in run\n",
            "    self._target(*self._args, **self._kwargs)\n",
            "  File \"/usr/local/lib/python3.10/dist-packages/paddle/io/dataloader/worker.py\", line 409, in _worker_loop\n",
            "    _cleanup_mmap()\n",
            "  File \"/usr/local/lib/python3.10/dist-packages/paddle/io/multiprocess_utils.py\", line 53, in _cleanup_mmap\n",
            "    core._cleanup_mmap_fds()\n",
            "KeyboardInterrupt\n",
            "  File \"/usr/lib/python3.10/multiprocessing/process.py\", line 314, in _bootstrap\n",
            "    self.run()\n",
            "  File \"/usr/lib/python3.10/multiprocessing/process.py\", line 108, in run\n",
            "    self._target(*self._args, **self._kwargs)\n",
            "  File \"/usr/local/lib/python3.10/dist-packages/paddle/io/dataloader/worker.py\", line 409, in _worker_loop\n",
            "    _cleanup_mmap()\n",
            "  File \"/usr/local/lib/python3.10/dist-packages/paddle/io/multiprocess_utils.py\", line 53, in _cleanup_mmap\n",
            "    core._cleanup_mmap_fds()\n",
            "KeyboardInterrupt\n",
            "Process Process-1:\n",
            "Traceback (most recent call last):\n",
            "  File \"/usr/lib/python3.10/multiprocessing/process.py\", line 314, in _bootstrap\n",
            "    self.run()\n",
            "  File \"/usr/lib/python3.10/multiprocessing/process.py\", line 108, in run\n",
            "    self._target(*self._args, **self._kwargs)\n",
            "  File \"/usr/local/lib/python3.10/dist-packages/paddle/io/dataloader/worker.py\", line 409, in _worker_loop\n",
            "    _cleanup_mmap()\n",
            "  File \"/usr/local/lib/python3.10/dist-packages/paddle/io/multiprocess_utils.py\", line 53, in _cleanup_mmap\n",
            "    core._cleanup_mmap_fds()\n",
            "KeyboardInterrupt\n",
            "^C\n"
          ]
        }
      ],
      "source": [
        "!python PaddleOCR/tools/train.py -c ./PaddleOCR/configs/det/ch_PP-OCRv4/ch_PP-OCRv4_det_cml.yml"
      ]
    },
    {
      "cell_type": "code",
      "execution_count": 2,
      "metadata": {
        "colab": {
          "base_uri": "https://localhost:8080/"
        },
        "collapsed": true,
        "id": "dK5DpY9D5iiu",
        "outputId": "bd76bad7-0aa9-41e1-a881-415ac3a82611"
      },
      "outputs": [
        {
          "output_type": "stream",
          "name": "stdout",
          "text": [
            "Found existing installation: paddlepaddle 2.6.1\n",
            "Uninstalling paddlepaddle-2.6.1:\n",
            "  Successfully uninstalled paddlepaddle-2.6.1\n",
            "Found existing installation: paddlepaddle-gpu 2.6.1\n",
            "Uninstalling paddlepaddle-gpu-2.6.1:\n",
            "  Successfully uninstalled paddlepaddle-gpu-2.6.1\n"
          ]
        }
      ],
      "source": [
        "!pip uninstall -y paddlepaddle paddlepaddle-gpu"
      ]
    },
    {
      "cell_type": "code",
      "execution_count": null,
      "metadata": {
        "colab": {
          "base_uri": "https://localhost:8080/"
        },
        "id": "XFSS5xzGYszt",
        "outputId": "8d49de7e-1765-45bb-8d90-b7a6c3d381f7"
      },
      "outputs": [
        {
          "name": "stdout",
          "output_type": "stream",
          "text": [
            "nvcc: NVIDIA (R) Cuda compiler driver\n",
            "Copyright (c) 2005-2023 NVIDIA Corporation\n",
            "Built on Tue_Aug_15_22:02:13_PDT_2023\n",
            "Cuda compilation tools, release 12.2, V12.2.140\n",
            "Build cuda_12.2.r12.2/compiler.33191640_0\n"
          ]
        }
      ],
      "source": [
        "!nvcc --version"
      ]
    },
    {
      "cell_type": "code",
      "execution_count": 3,
      "metadata": {
        "colab": {
          "base_uri": "https://localhost:8080/"
        },
        "id": "YuBuA2IzUR2g",
        "outputId": "d3cf5fe7-5bd2-47fd-b484-b7be8e76e897"
      },
      "outputs": [
        {
          "output_type": "stream",
          "name": "stdout",
          "text": [
            "Mounted at /content/drive\n"
          ]
        }
      ],
      "source": [
        "from google.colab import drive\n",
        "drive.mount('/content/drive')"
      ]
    },
    {
      "cell_type": "code",
      "execution_count": null,
      "metadata": {
        "colab": {
          "base_uri": "https://localhost:8080/",
          "height": 36
        },
        "id": "uOaPUJy5VvRy",
        "outputId": "0dec3b8e-4637-45c6-b7c7-b8c95972113c"
      },
      "outputs": [
        {
          "data": {
            "application/vnd.google.colaboratory.intrinsic+json": {
              "type": "string"
            },
            "text/plain": [
              "'/content/drive/My Drive/DATN_PADDLE_OCR/PaddleOCR'"
            ]
          },
          "execution_count": 8,
          "metadata": {},
          "output_type": "execute_result"
        }
      ],
      "source": [
        "import shutil\n",
        "\n",
        "source_folder = '/content/PaddleOCR'\n",
        "destination_folder = '/content/drive/My Drive/DATN_PADDLE_OCR/PaddleOCR'\n",
        "\n",
        "shutil.copytree(source_folder, destination_folder)\n"
      ]
    },
    {
      "cell_type": "code",
      "execution_count": 1,
      "metadata": {
        "colab": {
          "base_uri": "https://localhost:8080/"
        },
        "id": "5oLs3uYBNnpK",
        "outputId": "341856c7-c1ab-471d-dcde-8036bbef4e6f"
      },
      "outputs": [
        {
          "output_type": "stream",
          "name": "stderr",
          "text": [
            "/usr/local/lib/python3.10/dist-packages/paddle/base/framework.py:688: UserWarning: You are using GPU version Paddle, but your CUDA device is not set properly. CPU device will be used by default.\n",
            "  warnings.warn(\n"
          ]
        },
        {
          "output_type": "stream",
          "name": "stdout",
          "text": [
            "GPU available: True\n"
          ]
        }
      ],
      "source": [
        "import paddle\n",
        "gpu_available  = paddle.device.is_compiled_with_cuda()\n",
        "print(\"GPU available:\", gpu_available)"
      ]
    }
  ],
  "metadata": {
    "colab": {
      "provenance": [],
      "include_colab_link": true
    },
    "kernelspec": {
      "display_name": "Python 3",
      "name": "python3"
    },
    "language_info": {
      "name": "python"
    }
  },
  "nbformat": 4,
  "nbformat_minor": 0
}